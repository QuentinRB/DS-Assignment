{
 "cells": [
  {
   "cell_type": "markdown",
   "id": "102ba429-114d-44b1-8654-26449b980c26",
   "metadata": {},
   "source": [
    "# Data Science Tools and Ecosystem"
   ]
  },
  {
   "cell_type": "markdown",
   "id": "0b406b82-d8df-4d2e-9bed-387a466e69ea",
   "metadata": {},
   "source": [
    "In this notebook, Data Science Tools and Ecosystem are summarized."
   ]
  },
  {
   "cell_type": "markdown",
   "id": "17124ea7-42ec-4545-961f-2ec8a702abef",
   "metadata": {
    "tags": []
   },
   "source": [
    "**Objectives**:\n",
    "\n",
    "- List popular programming languages\n",
    "- Descrie R capabilities and it environment (RStudio)\n",
    "- Understand the purpose of a repository in GitHub"
   ]
  },
  {
   "cell_type": "markdown",
   "id": "4d9502cc-629c-4597-a161-f223de273b5b",
   "metadata": {},
   "source": [
    "Some of the popular languages that Data Scientists use are:"
   ]
  },
  {
   "cell_type": "markdown",
   "id": "f3d07df8-3098-424a-afd6-ffc8763efb0d",
   "metadata": {
    "tags": []
   },
   "source": [
    "1. Python\n",
    "2. C++\n",
    "3. R\n",
    "4. Julia"
   ]
  },
  {
   "cell_type": "markdown",
   "id": "854eeb8c-1489-4c27-bc59-1ad1e415e9bc",
   "metadata": {},
   "source": [
    "Some of the commonly used libraries used by Data Scientists include:"
   ]
  },
  {
   "cell_type": "markdown",
   "id": "7ce5a94a-00fe-4d8a-8271-56c5386cf768",
   "metadata": {},
   "source": [
    "1. NumPy\n",
    "2. Pandas\n",
    "3. Seaborn\n",
    "4. Matplotlib\n",
    "5. Scikit-Learn"
   ]
  },
  {
   "cell_type": "markdown",
   "id": "ec896747-4c77-42ea-b9e7-16c01c65e715",
   "metadata": {},
   "source": [
    "Data Science Tools"
   ]
  },
  {
   "cell_type": "markdown",
   "id": "aa105853-51e6-4cb1-a041-5b7a878df8e8",
   "metadata": {
    "tags": []
   },
   "source": [
    "| Data Science Tool|\n",
    "|------------------|\n",
    "| RStudio |\n",
    "| Git |\n",
    "| Anaconda |"
   ]
  },
  {
   "cell_type": "markdown",
   "id": "9ddc21a1-234c-44a0-b64d-6215a6bb7fff",
   "metadata": {},
   "source": [
    "### Below are a few examples of evaluating arithmetic expressions in Python"
   ]
  },
  {
   "cell_type": "code",
   "execution_count": 11,
   "id": "cef6b262-bcee-4236-b918-d738d569544e",
   "metadata": {
    "tags": []
   },
   "outputs": [
    {
     "data": {
      "text/plain": [
       "17"
      ]
     },
     "execution_count": 11,
     "metadata": {},
     "output_type": "execute_result"
    }
   ],
   "source": [
    "# This a simple arithmetic expression to mutiply then add integers.\n",
    "(3*4)+5"
   ]
  },
  {
   "cell_type": "code",
   "execution_count": 12,
   "id": "970e5f6a-53ed-4fbc-a544-5cc32caf543f",
   "metadata": {
    "tags": []
   },
   "outputs": [
    {
     "data": {
      "text/plain": [
       "3.3333333333333335"
      ]
     },
     "execution_count": 12,
     "metadata": {},
     "output_type": "execute_result"
    }
   ],
   "source": [
    "# This will convert 200 minutes to hours by diving by 60\n",
    "\n",
    "200 / 60\n"
   ]
  },
  {
   "cell_type": "markdown",
   "id": "776f3f07-53bf-4f8e-829d-35aaa94b1a78",
   "metadata": {},
   "source": [
    "## Author\n",
    "Quentin Ruchier-Berquet"
   ]
  },
  {
   "cell_type": "code",
   "execution_count": null,
   "id": "9ee12f0b-cb97-4f9f-ab7e-a0e03f62ce77",
   "metadata": {},
   "outputs": [],
   "source": []
  }
 ],
 "metadata": {
  "kernelspec": {
   "display_name": "Python",
   "language": "python",
   "name": "conda-env-python-py"
  },
  "language_info": {
   "codemirror_mode": {
    "name": "ipython",
    "version": 3
   },
   "file_extension": ".py",
   "mimetype": "text/x-python",
   "name": "python",
   "nbconvert_exporter": "python",
   "pygments_lexer": "ipython3",
   "version": "3.7.12"
  }
 },
 "nbformat": 4,
 "nbformat_minor": 5
}
